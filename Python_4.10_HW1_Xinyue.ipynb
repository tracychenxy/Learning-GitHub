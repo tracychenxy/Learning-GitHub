{
 "cells": [
  {
   "cell_type": "code",
   "execution_count": 2,
   "metadata": {},
   "outputs": [
    {
     "name": "stdout",
     "output_type": "stream",
     "text": [
      "[1, 3, 5, 7, 9, 11, 13, 15, 2, 4, 6, 8, 10, 12, 14, 16]\n"
     ]
    }
   ],
   "source": [
    "#Q1_a\n",
    "a = [1,3,5,7,9,11,13,15] \n",
    "b = [2,4,6,8,10,12,14,16] \n",
    "c = a+b\n",
    "print (c)\n"
   ]
  },
  {
   "cell_type": "code",
   "execution_count": null,
   "metadata": {},
   "outputs": [],
   "source": [
    "#Lecture2 discussion: you can use extend(), append()"
   ]
  },
  {
   "cell_type": "code",
   "execution_count": 46,
   "metadata": {},
   "outputs": [
    {
     "name": "stdout",
     "output_type": "stream",
     "text": [
      "[1, 2, 3, 4, 5, 6, 7, 8, 9, 10, 11, 12, 13, 14, 15, 16]\n"
     ]
    }
   ],
   "source": [
    "#Q1_b\n",
    "d = [None]*len(c)\n",
    "c.sort()\n",
    "d = c\n",
    "print (d)"
   ]
  },
  {
   "cell_type": "code",
   "execution_count": null,
   "metadata": {},
   "outputs": [],
   "source": [
    "#Lecture2 discussion: use zip(a,b) and append(element in a and b); or range()"
   ]
  },
  {
   "cell_type": "code",
   "execution_count": 47,
   "metadata": {},
   "outputs": [
    {
     "name": "stdout",
     "output_type": "stream",
     "text": [
      "[1, 2, 3, 4, 5, 6, 7, 8, 9, 10, 11, 12, 13, 14, 15, 16]\n"
     ]
    }
   ],
   "source": [
    "#Q1_c\n",
    "e = [None]*len(c)\n",
    "for element,i in enumerate(c):\n",
    "    e[element] = i;\n",
    "    \n",
    "print (e)"
   ]
  },
  {
   "cell_type": "code",
   "execution_count": 48,
   "metadata": {},
   "outputs": [
    {
     "data": {
      "text/plain": [
       "[1, 2, 3, 4, 5, 6, 7, 8, 9, 10, 11, 12, 13, 14, 15, 16]"
      ]
     },
     "execution_count": 48,
     "metadata": {},
     "output_type": "execute_result"
    }
   ],
   "source": [
    "#Q1_d\n",
    "e = [i for i in c] #interesting list comprehension\n",
    "e"
   ]
  },
  {
   "cell_type": "code",
   "execution_count": null,
   "metadata": {},
   "outputs": [],
   "source": [
    "#Lecture2 discussion: e = [c[i::8] for i in range(8)] or e = "
   ]
  },
  {
   "cell_type": "code",
   "execution_count": 64,
   "metadata": {},
   "outputs": [
    {
     "name": "stdout",
     "output_type": "stream",
     "text": [
      "[1, 3, 5, 7, 9, 11, 13, 15, 2, 4, 6, 8, 10, 12, 14, 16]\n"
     ]
    }
   ],
   "source": [
    "#Q1_e\n",
    "k = a+b;\n",
    "j = 0;\n",
    "f = [];\n",
    "while j<len(k):\n",
    "    f.append(k[j])\n",
    "    j += 1\n",
    "    \n",
    "print(f)"
   ]
  },
  {
   "cell_type": "code",
   "execution_count": 2,
   "metadata": {},
   "outputs": [],
   "source": [
    "#Q2_a\n",
    "new_dict = {'ap':'1','ba':'2','ca':'3','du':'4','ef':'5'}\n",
    "def passwordEval (username, password):\n",
    "    \"\"\"\n",
    "    passwordEval checks if the input username and password matches the dictionary documenting them\n",
    "    \n",
    "    parameters: \n",
    "        username: the type-in username from the user\n",
    "        password: the type-in password from the user\n",
    "    \n",
    "    output:\n",
    "        A line to tell the user if what they typed in exactly matches entries in the dictionary\n",
    "    \n",
    "    \"\"\"\n",
    "    message1 = new_dict.get(username,'not found username')\n",
    "    if message1 == 'not found username':\n",
    "        print('Username/password not found!')\n",
    "    elif new_dict[username] == password:\n",
    "        print(\"Username and password accepted!\")\n",
    "    else:\n",
    "        print('Username/password not found!')"
   ]
  },
  {
   "cell_type": "code",
   "execution_count": 9,
   "metadata": {},
   "outputs": [
    {
     "name": "stdout",
     "output_type": "stream",
     "text": [
      "Enter Username:Ap\n",
      "Enter Password:1\n",
      "Username/password not found!\n"
     ]
    }
   ],
   "source": [
    "#Q2_b\n",
    "type_in_username = str(input(\"Enter Username:\"))\n",
    "type_in_password = str(input('Enter Password:'))\n",
    "assert (not str.islower(type_in_username)),'STRING TO PRINT IF FALSE'\n",
    "    \n",
    "passwordEval (type_in_username,type_in_password)\n"
   ]
  },
  {
   "cell_type": "code",
   "execution_count": 7,
   "metadata": {},
   "outputs": [
    {
     "name": "stdout",
     "output_type": "stream",
     "text": [
      "Enter Username:Ap\n",
      "Enter Password:1\n",
      "Username and password accepted!\n"
     ]
    }
   ],
   "source": [
    "#Q2_c\n",
    "type_in_username = str(input(\"Enter Username:\"))\n",
    "type_in_password = str(input('Enter Password:'))\n",
    "lower_username = str.lower(type_in_username)\n",
    "lower_password = str.lower(type_in_password)\n",
    "\n",
    "passwordEval (lower_username,lower_password)"
   ]
  },
  {
   "cell_type": "code",
   "execution_count": 1,
   "metadata": {},
   "outputs": [
    {
     "name": "stdout",
     "output_type": "stream",
     "text": [
      "Enter Username:Ap\n",
      "Enter Password:1\n",
      "Username and password accepted!\n"
     ]
    }
   ],
   "source": [
    "#Q2_d\n",
    "type_in_username = str(input(\"Enter Username:\"))\n",
    "type_in_password = str(input('Enter Password:'))\n",
    "lower_username = str.lower(type_in_username)\n",
    "lower_password = str.lower(type_in_password)\n",
    "\n",
    "import week1_hw1 as hw1\n",
    "hw1.passwordEval (lower_username,lower_password)"
   ]
  },
  {
   "cell_type": "code",
   "execution_count": 6,
   "metadata": {},
   "outputs": [
    {
     "name": "stdout",
     "output_type": "stream",
     "text": [
      "ap\n",
      "ba\n",
      "ca\n",
      "du\n",
      "ef\n",
      "fr\n",
      "gi\n",
      "he\n",
      "is\n"
     ]
    }
   ],
   "source": [
    "#Q2_e\n",
    "new_dict.update({'fr':'6','gi':'7','he':'8','is':'9'})\n",
    "#for key,value in new_dict.items():\n",
    "    #passwordEval(key,value)\n",
    "for key in new_dict.keys():\n",
    "    print(key)"
   ]
  }
 ],
 "metadata": {
  "kernelspec": {
   "display_name": "Python 3",
   "language": "python",
   "name": "python3"
  },
  "language_info": {
   "codemirror_mode": {
    "name": "ipython",
    "version": 3
   },
   "file_extension": ".py",
   "mimetype": "text/x-python",
   "name": "python",
   "nbconvert_exporter": "python",
   "pygments_lexer": "ipython3",
   "version": "3.7.3"
  }
 },
 "nbformat": 4,
 "nbformat_minor": 2
}
